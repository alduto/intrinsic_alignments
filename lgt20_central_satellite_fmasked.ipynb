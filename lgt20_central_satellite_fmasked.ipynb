{
 "cells": [
  {
   "cell_type": "code",
   "execution_count": 1,
   "metadata": {},
   "outputs": [],
   "source": [
    "import fitsio as fio\n",
    "import numpy as np"
   ]
  },
  {
   "cell_type": "code",
   "execution_count": 2,
   "metadata": {},
   "outputs": [],
   "source": [
    "clus = fio.FITS('/lsst/troxel/y1a1/y1a1_gold_1.0.3-d10-mof-001d_run_redmapper_v6.4.17-vlim_lgt20_desformat_catalog.fit')[-1] # Cluster catalog\n",
    "shape = fio.FITS('/lsst/troxel/y1a1/lgt20_member_mcal_combined_masked.fits')[-1] # Shape/member catalog\n",
    "mem = fio.FITS('/lsst/troxel/y1a1/y1a1_gold_1.0.3-d10-mof-001d_run_redmapper_v6.4.17-vlim_lgt20_desformat_catalog_members.fit')[-1] # Member catalog"
   ]
  },
  {
   "cell_type": "code",
   "execution_count": 3,
   "metadata": {},
   "outputs": [],
   "source": [
    "cluster = clus.read()"
   ]
  },
  {
   "cell_type": "code",
   "execution_count": 4,
   "metadata": {},
   "outputs": [],
   "source": [
    "cent_id = cluster['ID_CENT'][:,0] # Most probable central ID's\n",
    "shape_id = shape['ID'].read() # Shape/member ID column\n",
    "mem_id = mem['ID'].read() # Member ID column"
   ]
  },
  {
   "cell_type": "code",
   "execution_count": 5,
   "metadata": {},
   "outputs": [],
   "source": [
    "# Mask shape/member catalog to select central galaxies\n",
    "cent_mask = np.in1d(shape_id, cent_id, assume_unique=False)\n",
    "cent = shape.read()[cent_mask]\n",
    "r_mask = cent['R']==0\n",
    "cent = cent[r_mask]"
   ]
  },
  {
   "cell_type": "code",
   "execution_count": 6,
   "metadata": {},
   "outputs": [],
   "source": [
    "cent_sort = np.argsort(cent['MEM_MATCH_ID'])\n",
    "cent = cent[cent_sort]"
   ]
  },
  {
   "cell_type": "code",
   "execution_count": 7,
   "metadata": {},
   "outputs": [],
   "source": [
    "fio.write('/lsst/troxel/y1a1/lgt20_central_shapes_fmasked.fits', cent, clobber=True)"
   ]
  },
  {
   "cell_type": "code",
   "execution_count": 8,
   "metadata": {},
   "outputs": [],
   "source": [
    "# Mask member catalog to select satellite galaxies\n",
    "sat_mask = np.in1d(mem_id, cent['ID'], assume_unique=False, invert=True)\n",
    "sat = mem.read()[sat_mask]\n",
    "sat_cent_mask = np.in1d(sat['MEM_MATCH_ID'], cent['MEM_MATCH_ID'], assume_unique=False)\n",
    "sat = sat[sat_cent_mask]"
   ]
  },
  {
   "cell_type": "code",
   "execution_count": 9,
   "metadata": {},
   "outputs": [],
   "source": [
    "sat_sort = np.argsort(sat['MEM_MATCH_ID'])\n",
    "sat = sat[sat_sort]"
   ]
  },
  {
   "cell_type": "code",
   "execution_count": 10,
   "metadata": {},
   "outputs": [],
   "source": [
    "fio.write('/lsst/troxel/y1a1/lgt20_satellite_members_fmasked.fits', sat, clobber=True)"
   ]
  },
  {
   "cell_type": "code",
   "execution_count": 11,
   "metadata": {},
   "outputs": [],
   "source": [
    "# Mask cluster catalog to select clusters with centrals that have shapes\n",
    "clus_mask = np.in1d(cluster['MEM_MATCH_ID'], cent['MEM_MATCH_ID'], assume_unique=True)\n",
    "clus_masked = cluster[clus_mask]"
   ]
  },
  {
   "cell_type": "code",
   "execution_count": 12,
   "metadata": {},
   "outputs": [],
   "source": [
    "clus_sort = np.argsort(clus_masked['MEM_MATCH_ID'])\n",
    "clus_masked = clus_masked[clus_sort]"
   ]
  },
  {
   "cell_type": "code",
   "execution_count": 13,
   "metadata": {},
   "outputs": [],
   "source": [
    "fio.write('/lsst/troxel/y1a1/lgt20_cluster_fmasked.fits', clus_masked, clobber=True)"
   ]
  },
  {
   "cell_type": "code",
   "execution_count": 14,
   "metadata": {},
   "outputs": [],
   "source": [
    "p_mem = sat['P']*sat['PFREE']\n",
    "sat_p80_mask = p_mem >= 0.8\n",
    "sat_p80 = sat[sat_p80_mask]"
   ]
  },
  {
   "cell_type": "code",
   "execution_count": 15,
   "metadata": {},
   "outputs": [],
   "source": [
    "fio.write('/lsst/troxel/y1a1/lgt20_satellite_p80_fmasked.fits', sat_p80, clobber=True)"
   ]
  },
  {
   "cell_type": "code",
   "execution_count": 16,
   "metadata": {},
   "outputs": [],
   "source": [
    "cent_p80_mask = np.in1d(cent['MEM_MATCH_ID'], sat_p80['MEM_MATCH_ID'], assume_unique=False)\n",
    "cent_p80 = cent[cent_p80_mask]"
   ]
  },
  {
   "cell_type": "code",
   "execution_count": 17,
   "metadata": {},
   "outputs": [],
   "source": [
    "fio.write('/lsst/troxel/y1a1/lgt20_central_p80_fmasked.fits', cent_p80, clobber=True)"
   ]
  },
  {
   "cell_type": "code",
   "execution_count": 18,
   "metadata": {},
   "outputs": [],
   "source": [
    "sat_p20_mask = p_mem >= 0.2\n",
    "sat_p20 = sat[sat_p20_mask]"
   ]
  },
  {
   "cell_type": "code",
   "execution_count": 19,
   "metadata": {},
   "outputs": [],
   "source": [
    "fio.write('/lsst/troxel/y1a1/lgt20_satellite_p20_fmasked.fits', sat_p20, clobber=True)"
   ]
  },
  {
   "cell_type": "code",
   "execution_count": 20,
   "metadata": {},
   "outputs": [],
   "source": [
    "cent_p20_mask = np.in1d(cent['MEM_MATCH_ID'], sat_p20['MEM_MATCH_ID'], assume_unique=False)\n",
    "cent_p20 = cent[cent_p20_mask]"
   ]
  },
  {
   "cell_type": "code",
   "execution_count": 21,
   "metadata": {},
   "outputs": [],
   "source": [
    "fio.write('/lsst/troxel/y1a1/lgt20_central_p20_fmasked.fits', cent_p20, clobber=True)"
   ]
  },
  {
   "cell_type": "code",
   "execution_count": 22,
   "metadata": {},
   "outputs": [],
   "source": [
    "clus_sort = np.argsort(cluster['MEM_MATCH_ID'])\n",
    "clus_sorted = cluster[clus_sort]"
   ]
  },
  {
   "cell_type": "code",
   "execution_count": 23,
   "metadata": {},
   "outputs": [],
   "source": [
    "clus_p20_mask = np.in1d(clus_sorted['MEM_MATCH_ID'], cent_p20['MEM_MATCH_ID'], assume_unique=True)\n",
    "clus_p20 = clus_sorted[clus_p20_mask]"
   ]
  },
  {
   "cell_type": "code",
   "execution_count": 24,
   "metadata": {},
   "outputs": [],
   "source": [
    "fio.write('/lsst/troxel/y1a1/lgt20_cluster_p20_fmasked.fits', clus_p20, clobber=True)"
   ]
  }
 ],
 "metadata": {
  "kernelspec": {
   "display_name": "Python 3",
   "language": "python",
   "name": "python3"
  },
  "language_info": {
   "codemirror_mode": {
    "name": "ipython",
    "version": 3
   },
   "file_extension": ".py",
   "mimetype": "text/x-python",
   "name": "python",
   "nbconvert_exporter": "python",
   "pygments_lexer": "ipython3",
   "version": "3.7.2"
  }
 },
 "nbformat": 4,
 "nbformat_minor": 2
}
